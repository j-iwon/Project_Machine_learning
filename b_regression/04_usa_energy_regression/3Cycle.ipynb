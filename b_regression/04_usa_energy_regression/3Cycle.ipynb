{
 "cells": [
  {
   "cell_type": "markdown",
   "id": "1ee266d4-7087-4e88-9d5c-dcfbdfd3f77c",
   "metadata": {},
   "source": [
    "### **📊3Cycle**"
   ]
  },
  {
   "cell_type": "code",
   "execution_count": 1,
   "id": "844e53bb-7aab-4305-b4ee-80913de3779a",
   "metadata": {},
   "outputs": [],
   "source": [
    "# 타겟의 분포를 로그 변환후 차원축소"
   ]
  },
  {
   "cell_type": "code",
   "execution_count": 2,
   "id": "161b0199-4aed-413b-aee4-947da8a83de0",
   "metadata": {},
   "outputs": [],
   "source": [
    "import pandas as pd\n",
    "\n",
    "u_df = pd.read_csv(\"./datasets/USA Residential Building Energy Consumption.csv\")"
   ]
  },
  {
   "cell_type": "code",
   "execution_count": 3,
   "id": "8a0d131f-a99c-4d92-8e6f-6986d5d434e5",
   "metadata": {},
   "outputs": [],
   "source": [
    "columns = u_df.columns[u_df.isna().any()]\n",
    "for column in columns:\n",
    "    pre_u2_df = u_df[~u_df[column].isna()]"
   ]
  },
  {
   "cell_type": "code",
   "execution_count": 4,
   "id": "228146bf-4d49-404c-992f-a4535a04314b",
   "metadata": {},
   "outputs": [],
   "source": [
    "pre_u2_df = pre_u2_df.drop(labels=['DOEID'], axis=1).reset_index(drop=True)"
   ]
  },
  {
   "cell_type": "code",
   "execution_count": 5,
   "id": "8498c4dd-bf4d-4f87-88c9-525cea1088a1",
   "metadata": {},
   "outputs": [],
   "source": [
    "from sklearn.preprocessing import LabelEncoder\n",
    "\n",
    "# 문자열 컬럼 추출\n",
    "columns = ['METROMICRO', 'UATYP10', 'CLIMATE_REGION_PUB', 'IECC_CLIMATE_PUB']\n",
    "# 각 컬럼의 LabelEncoder 객체를 저장할 딕셔너리(encoders) 초기화\n",
    "label_encoders = {}\n",
    "\n",
    "# 컬럼 반복하여 column에 담아 적용:\n",
    "for column in columns:\n",
    "    # LabelEncoder 객체 생성, 문자열 데이터 인코딩을 통해 정수로 형변환 후 데이터 교체\n",
    "    encoder = LabelEncoder()\n",
    "    # LabelEncoder를 사용하여 각 컬럼의 값을 변환\n",
    "    result = encoder.fit_transform(pre_u2_df[column])\n",
    "    # 변환된 값의 클래스(고유한 값) 저장\n",
    "    label_encoders[column] = encoder.classes_\n",
    "    # 변환된 값 적용\n",
    "    pre_u2_df[column] = result"
   ]
  },
  {
   "cell_type": "code",
   "execution_count": 6,
   "id": "d8ee2d16-3d9a-4814-a27b-946b8acdf022",
   "metadata": {},
   "outputs": [
    {
     "data": {
      "text/plain": [
       "<Axes: >"
      ]
     },
     "execution_count": 6,
     "metadata": {},
     "output_type": "execute_result"
    },
    {
     "data": {
      "image/png": "[encoded data removed]",
      "text/plain": [
       "<Figure size 500x500 with 1 Axes>"
      ]
     },
     "metadata": {},
     "output_type": "display_data"
    }
   ],
   "source": [
    "#타겟 데이터 히스토그램 그려보기\n",
    "pre_u2_df['KWH'].hist(figsize=(5,5), color='#FFCBA4')"
   ]
  },
  {
   "cell_type": "code",
   "execution_count": 7,
   "id": "391aa822-40ec-4f7d-8f2c-3359ddfee9ce",
   "metadata": {},
   "outputs": [],
   "source": [
    "# 타겟 데이터 로그로 변환하기\n",
    "import numpy as np\n",
    "pre_u2_df['KWH'] = np.log1p(pre_u2_df.KWH)"
   ]
  },
  {
   "cell_type": "code",
   "execution_count": 8,
   "id": "f13f2682-7597-49b7-b403-6863f2ae8a1f",
   "metadata": {},
   "outputs": [
    {
     "data": {
      "text/plain": [
       "<Axes: >"
      ]
     },
     "execution_count": 8,
     "metadata": {},
     "output_type": "execute_result"
    },
    {
     "data": {
      "image/png": "[encoded data removed]",
      "text/plain": [
       "<Figure size 500x500 with 1 Axes>"
      ]
     },
     "metadata": {},
     "output_type": "display_data"
    }
   ],
   "source": [
    "#타겟 데이터 로그 변환 히스토그램 그려보기\n",
    "pre_u2_df['KWH'].hist(figsize=(5,5), color='#FFCBA4')"
   ]
  },
  {
   "cell_type": "code",
   "execution_count": 9,
   "id": "10d61605-bda7-4943-b09e-30cfb1a761b0",
   "metadata": {},
   "outputs": [],
   "source": [
    "# 타겟 데이터 지정하고 원래 컬럼 삭제하기\n",
    "pre_u2_df['target'] = pre_u2_df['KWH']\n",
    "pre_u2_df = pre_u2_df.drop(labels=['KWH'], axis=1)"
   ]
  },
  {
   "cell_type": "code",
   "execution_count": 10,
   "id": "8f9b66e9-d66b-435c-a09b-1e3ac08c9594",
   "metadata": {},
   "outputs": [
    {
     "data": {
      "text/html": [
       "<style>#sk-container-id-1 {color: black;background-color: white;}#sk-container-id-1 pre{padding: 0;}#sk-container-id-1 div.sk-toggleable {background-color: white;}#sk-container-id-1 label.sk-toggleable__label {cursor: pointer;display: block;width: 100%;margin-bottom: 0;padding: 0.3em;box-sizing: border-box;text-align: center;}#sk-container-id-1 label.sk-toggleable__label-arrow:before {content: \"▸\";float: left;margin-right: 0.25em;color: #696969;}#sk-container-id-1 label.sk-toggleable__label-arrow:hover:before {color: black;}#sk-container-id-1 div.sk-estimator:hover label.sk-toggleable__label-arrow:before {color: black;}#sk-container-id-1 div.sk-toggleable__content {max-height: 0;max-width: 0;overflow: hidden;text-align: left;background-color: #f0f8ff;}#sk-container-id-1 div.sk-toggleable__content pre {margin: 0.2em;color: black;border-radius: 0.25em;background-color: #f0f8ff;}#sk-container-id-1 input.sk-toggleable__control:checked~div.sk-toggleable__content {max-height: 200px;max-width: 100%;overflow: auto;}#sk-container-id-1 input.sk-toggleable__control:checked~label.sk-toggleable__label-arrow:before {content: \"▾\";}#sk-container-id-1 div.sk-estimator input.sk-toggleable__control:checked~label.sk-toggleable__label {background-color: #d4ebff;}#sk-container-id-1 div.sk-label input.sk-toggleable__control:checked~label.sk-toggleable__label {background-color: #d4ebff;}#sk-container-id-1 input.sk-hidden--visually {border: 0;clip: rect(1px 1px 1px 1px);clip: rect(1px, 1px, 1px, 1px);height: 1px;margin: -1px;overflow: hidden;padding: 0;position: absolute;width: 1px;}#sk-container-id-1 div.sk-estimator {font-family: monospace;background-color: #f0f8ff;border: 1px dotted black;border-radius: 0.25em;box-sizing: border-box;margin-bottom: 0.5em;}#sk-container-id-1 div.sk-estimator:hover {background-color: #d4ebff;}#sk-container-id-1 div.sk-parallel-item::after {content: \"\";width: 100%;border-bottom: 1px solid gray;flex-grow: 1;}#sk-container-id-1 div.sk-label:hover label.sk-toggleable__label {background-color: #d4ebff;}#sk-container-id-1 div.sk-serial::before {content: \"\";position: absolute;border-left: 1px solid gray;box-sizing: border-box;top: 0;bottom: 0;left: 50%;z-index: 0;}#sk-container-id-1 div.sk-serial {display: flex;flex-direction: column;align-items: center;background-color: white;padding-right: 0.2em;padding-left: 0.2em;position: relative;}#sk-container-id-1 div.sk-item {position: relative;z-index: 1;}#sk-container-id-1 div.sk-parallel {display: flex;align-items: stretch;justify-content: center;background-color: white;position: relative;}#sk-container-id-1 div.sk-item::before, #sk-container-id-1 div.sk-parallel-item::before {content: \"\";position: absolute;border-left: 1px solid gray;box-sizing: border-box;top: 0;bottom: 0;left: 50%;z-index: -1;}#sk-container-id-1 div.sk-parallel-item {display: flex;flex-direction: column;z-index: 1;position: relative;background-color: white;}#sk-container-id-1 div.sk-parallel-item:first-child::after {align-self: flex-end;width: 50%;}#sk-container-id-1 div.sk-parallel-item:last-child::after {align-self: flex-start;width: 50%;}#sk-container-id-1 div.sk-parallel-item:only-child::after {width: 0;}#sk-container-id-1 div.sk-dashed-wrapped {border: 1px dashed gray;margin: 0 0.4em 0.5em 0.4em;box-sizing: border-box;padding-bottom: 0.4em;background-color: white;}#sk-container-id-1 div.sk-label label {font-family: monospace;font-weight: bold;display: inline-block;line-height: 1.2em;}#sk-container-id-1 div.sk-label-container {text-align: center;}#sk-container-id-1 div.sk-container {/* jupyter's `normalize.less` sets `[hidden] { display: none; }` but bootstrap.min.css set `[hidden] { display: none !important; }` so we also need the `!important` here to be able to override the default hidden behavior on the sphinx rendered scikit-learn.org. See: https://github.com/scikit-learn/scikit-learn/issues/21755 */display: inline-block !important;position: relative;}#sk-container-id-1 div.sk-text-repr-fallback {display: none;}</style><div id=\"sk-container-id-1\" class=\"sk-top-container\"><div class=\"sk-text-repr-fallback\"><pre>Pipeline(steps=[(&#x27;pca&#x27;, PCA(n_components=5)), (&#x27;l_r&#x27;, LinearRegression())])</pre><b>In a Jupyter environment, please rerun this cell to show the HTML representation or trust the notebook. <br />On GitHub, the HTML representation is unable to render, please try loading this page with nbviewer.org.</b></div><div class=\"sk-container\" hidden><div class=\"sk-item sk-dashed-wrapped\"><div class=\"sk-label-container\"><div class=\"sk-label sk-toggleable\"><input class=\"sk-toggleable__control sk-hidden--visually\" id=\"sk-estimator-id-1\" type=\"checkbox\" ><label for=\"sk-estimator-id-1\" class=\"sk-toggleable__label sk-toggleable__label-arrow\">Pipeline</label><div class=\"sk-toggleable__content\"><pre>Pipeline(steps=[(&#x27;pca&#x27;, PCA(n_components=5)), (&#x27;l_r&#x27;, LinearRegression())])</pre></div></div></div><div class=\"sk-serial\"><div class=\"sk-item\"><div class=\"sk-estimator sk-toggleable\"><input class=\"sk-toggleable__control sk-hidden--visually\" id=\"sk-estimator-id-2\" type=\"checkbox\" ><label for=\"sk-estimator-id-2\" class=\"sk-toggleable__label sk-toggleable__label-arrow\">PCA</label><div class=\"sk-toggleable__content\"><pre>PCA(n_components=5)</pre></div></div></div><div class=\"sk-item\"><div class=\"sk-estimator sk-toggleable\"><input class=\"sk-toggleable__control sk-hidden--visually\" id=\"sk-estimator-id-3\" type=\"checkbox\" ><label for=\"sk-estimator-id-3\" class=\"sk-toggleable__label sk-toggleable__label-arrow\">LinearRegression</label><div class=\"sk-toggleable__content\"><pre>LinearRegression()</pre></div></div></div></div></div></div></div>"
      ],
      "text/plain": [
       "Pipeline(steps=[('pca', PCA(n_components=5)), ('l_r', LinearRegression())])"
      ]
     },
     "execution_count": 10,
     "metadata": {},
     "output_type": "execute_result"
    }
   ],
   "source": [
    "from sklearn.preprocessing import StandardScaler\n",
    "from sklearn.pipeline import Pipeline\n",
    "from sklearn.model_selection import train_test_split, GridSearchCV\n",
    "from sklearn.linear_model import LinearRegression\n",
    "from sklearn.decomposition import PCA\n",
    "\n",
    "# 데이터 세트 분리\n",
    "# 피처, 타겟 데이터 분리\n",
    "features, targets = pre_u2_df.iloc[:, :-1], pre_u2_df.iloc[:, -1]\n",
    "\n",
    "# 문제/정답 및 학습/테스트 데이터 분리\n",
    "X_train, X_test, y_train, y_test = \\\n",
    "train_test_split(features, targets, test_size=0.2, random_state=124)\n",
    "\n",
    "# 선형 회귀 모델\n",
    "l_r = LinearRegression()\n",
    "\n",
    "# 파이프라인 구축\n",
    "# 차원축소, 선형회귀 모델\n",
    "pipe = Pipeline([('pca', PCA(n_components=5)), ('l_r', l_r)])\n",
    "\n",
    "# 훈련\n",
    "pipe.fit(X_train, y_train)"
   ]
  },
  {
   "cell_type": "code",
   "execution_count": 11,
   "id": "164c701d-b4f1-4892-b01e-416b267060c6",
   "metadata": {},
   "outputs": [],
   "source": [
    "import numpy as np\n",
    "from sklearn.metrics import mean_squared_log_error, mean_squared_error, r2_score\n",
    "\n",
    "def get_evaluation(y_test, prediction):\n",
    "    MSE = mean_squared_error(y_test, prediction)\n",
    "    RMSE = np.sqrt(MSE)\n",
    "    MSLE = mean_squared_log_error(y_test, prediction)\n",
    "    RMSLE = np.sqrt(mean_squared_log_error(y_test, prediction))\n",
    "    R2 = r2_score(y_test, prediction)\n",
    "    print('MSE: {:.4f}, RMSE: {:.4f}, MSLE: {:.4f}, RMSLE: {:.4f}, R2: {:.4f}'\\\n",
    "          .format(MSE, RMSE, MSLE, RMSLE, R2))"
   ]
  },
  {
   "cell_type": "code",
   "execution_count": 12,
   "id": "02b74a25-1b02-4063-8255-15eae7b19ef2",
   "metadata": {},
   "outputs": [
    {
     "name": "stdout",
     "output_type": "stream",
     "text": [
      "MSE: 0.1128, RMSE: 0.3358, MSLE: 0.0012, RMSLE: 0.0346, R2: 0.7344\n"
     ]
    }
   ],
   "source": [
    "# 예측\n",
    "prediction = pipe.predict(X_test)\n",
    "# 평가 (오차행렬)\n",
    "get_evaluation(y_test, prediction)"
   ]
  },
  {
   "cell_type": "markdown",
   "id": "7b38075f-7abe-48e8-a6cc-1dba562a5368",
   "metadata": {},
   "source": [
    "### **📝3Cycle 결과**\n",
    ">   \n",
    ">   "
   ]
  }
 ],
 "metadata": {
  "kernelspec": {
   "display_name": "Python 3 (ipykernel)",
   "language": "python",
   "name": "python3"
  },
  "language_info": {
   "codemirror_mode": {
    "name": "ipython",
    "version": 3
   },
   "file_extension": ".py",
   "mimetype": "text/x-python",
   "name": "python",
   "nbconvert_exporter": "python",
   "pygments_lexer": "ipython3",
   "version": "3.11.8"
  }
 },
 "nbformat": 4,
 "nbformat_minor": 5
}
